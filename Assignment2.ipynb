{
 "cells": [
  {
   "cell_type": "markdown",
   "id": "8f12e451-58c3-452b-8d2b-4acd6359c483",
   "metadata": {},
   "source": [
    "## Homework\n",
    "\n",
    "> Note: sometimes your answer doesn't match one of \n",
    "> the options exactly. That's fine. \n",
    "> Select the option that's closest to your solution.\n",
    "\n",
    "\n",
    "### Dataset\n",
    "\n",
    "In this homework, we will use the Laptops price dataset from [Kaggle](https://www.kaggle.com/datasets/juanmerinobermejo/laptops-price-dataset).\n",
    "\n",
    "Here's a wget-able [link](https://raw.githubusercontent.com/alexeygrigorev/datasets/master/laptops.csv):\n",
    "\n",
    "```bash\n",
    "wget https://raw.githubusercontent.com/alexeygrigorev/datasets/master/laptops.csv\n",
    "```\n",
    "\n",
    "The goal of this homework is to create a regression model for predicting the prices (column `'Final Price'`).\n",
    "\n",
    "### Preparing the dataset \n",
    "\n",
    "First, we'll normalize the names of the columns:\n",
    "\n",
    "```python\n",
    "df.columns = df.columns.str.lower().str.replace(' ', '_')\n",
    "```\n",
    "\n",
    "Now, instead of `'Final Price'`, we have `'final_price'`.\n",
    "\n",
    "Next, use only the following columns:\n",
    "\n",
    "* `'ram'`,\n",
    "* `'storage'`,\n",
    "* `'screen'`,\n",
    "* `'final_price'`\n",
    "\n",
    "### EDA\n",
    "\n",
    "* Look at the `final_price` variable. Does it have a long tail? \n",
    "\n",
    "\n",
    "\n",
    "### Question 1\n",
    "\n",
    "There's one column with missing values. What is it?\n",
    "\n",
    "* `'ram'`\n",
    "* `'storage'`\n",
    "* `'screen'`\n",
    "* `'final_price'`\n",
    "\n",
    "\n",
    "### Question 2\n",
    "\n",
    "What's the median (50% percentile) for variable `'ram'`?\n",
    "\n",
    "- 8\n",
    "- 16\n",
    "- 24\n",
    "- 32\n",
    "\n",
    "### Prepare and split the dataset\n",
    "\n",
    "* Shuffle the dataset (the filtered one you created above), use seed `42`.\n",
    "* Split your data in train/val/test sets, with 60%/20%/20% distribution.\n",
    "\n",
    "Use the same code as in the lectures\n",
    "\n",
    "\n",
    "### Question 3\n",
    "\n",
    "* We need to deal with missing values for the column from Q1.\n",
    "* We have two options: fill it with 0 or with the mean of this variable.\n",
    "* Try both options. For each, train a linear regression model without regularization using the code from the lessons.\n",
    "* For computing the mean, use the training only!\n",
    "* Use the validation dataset to evaluate the models and compare the RMSE of each option.\n",
    "* Round the RMSE scores to 2 decimal digits using `round(score, 2)`\n",
    "* Which option gives better RMSE?\n",
    "\n",
    "Options:\n",
    "\n",
    "- With 0\n",
    "- With mean\n",
    "- Both are equally good\n",
    "\n",
    "\n",
    "### Question 4\n",
    "\n",
    "* Now let's train a regularized linear regression.\n",
    "* For this question, fill the NAs with 0. \n",
    "* Try different values of `r` from this list: `[0, 0.01, 0.1, 1, 5, 10, 100]`.\n",
    "* Use RMSE to evaluate the model on the validation dataset.\n",
    "* Round the RMSE scores to 2 decimal digits.\n",
    "* Which `r` gives the best RMSE?\n",
    "\n",
    "If there are multiple options, select the smallest `r`.\n",
    "\n",
    "Options:\n",
    "\n",
    "- 0\n",
    "- 0.01\n",
    "- 1\n",
    "- 10\n",
    "- 100\n",
    "\n",
    "\n",
    "### Question 5 \n",
    "\n",
    "* We used seed 42 for splitting the data. Let's find out how selecting the seed influences our score.\n",
    "* Try different seed values: `[0, 1, 2, 3, 4, 5, 6, 7, 8, 9]`.\n",
    "* For each seed, do the train/validation/test split with 60%/20%/20% distribution.\n",
    "* Fill the missing values with 0 and train a model without regularization.\n",
    "* For each seed, evaluate the model on the validation dataset and collect the RMSE scores. \n",
    "* What's the standard deviation of all the scores? To compute the standard deviation, use `np.std`.\n",
    "* Round the result to 3 decimal digits (`round(std, 3)`)\n",
    "\n",
    "What's the value of std?\n",
    "\n",
    "- 19.176\n",
    "- 29.176\n",
    "- 39.176\n",
    "- 49.176\n",
    "\n",
    "> Note: Standard deviation shows how different the values are.\n",
    "> If it's low, then all values are approximately the same.\n",
    "> If it's high, the values are different. \n",
    "> If standard deviation of scores is low, then our model is *stable*.\n",
    "\n",
    "\n",
    "### Question 6\n",
    "\n",
    "* Split the dataset like previously, use seed 9.\n",
    "* Combine train and validation datasets.\n",
    "* Fill the missing values with 0 and train a model with `r=0.001`. \n",
    "* What's the RMSE on the test dataset?\n",
    "\n",
    "Options:\n",
    "\n",
    "- 598.60\n",
    "- 608.60\n",
    "- 618.60\n",
    "- 628.60\n",
    "\n",
    "## Submit the results\n",
    "\n",
    "* Submit your results here: https://courses.datatalks.club/ml-zoomcamp-2024/homework/hw02\n",
    "* If your answer doesn't match options exactly, select the closest one\n"
   ]
  },
  {
   "cell_type": "code",
   "execution_count": 51,
   "id": "44e5f24a-f88b-4901-bae6-827fa219b6c7",
   "metadata": {},
   "outputs": [
    {
     "name": "stdout",
     "output_type": "stream",
     "text": [
      "File downloaded successfully\n"
     ]
    }
   ],
   "source": [
    "# Dataset\n",
    "import requests\n",
    "import numpy as np\n",
    "\n",
    "url = \"https://raw.githubusercontent.com/alexeygrigorev/datasets/master/laptops.csv\"\n",
    "response = requests.get(url)\n",
    "\n",
    "# Save the content to a CSV file\n",
    "with open(\"laptops.csv\", \"wb\") as file:\n",
    "    file.write(response.content)\n",
    "\n",
    "print(\"File downloaded successfully\")\n"
   ]
  },
  {
   "cell_type": "code",
   "execution_count": null,
   "id": "bc21893c-4da8-474a-8773-1a2ca0ea8ab8",
   "metadata": {},
   "outputs": [],
   "source": [
    "#The goal of this homework is to create a regression model for predicting the prices (column 'Final Price')."
   ]
  },
  {
   "cell_type": "code",
   "execution_count": 5,
   "id": "a0e4f4ec-cf98-4178-a57f-0ac32f998a78",
   "metadata": {},
   "outputs": [],
   "source": [
    "import pandas as pd\n",
    "df = pd.read_csv('laptops.csv')"
   ]
  },
  {
   "cell_type": "code",
   "execution_count": 21,
   "id": "bd79c7a7-1f28-40f4-8c6d-cd6c5197a722",
   "metadata": {},
   "outputs": [
    {
     "data": {
      "text/html": [
       "<div>\n",
       "<style scoped>\n",
       "    .dataframe tbody tr th:only-of-type {\n",
       "        vertical-align: middle;\n",
       "    }\n",
       "\n",
       "    .dataframe tbody tr th {\n",
       "        vertical-align: top;\n",
       "    }\n",
       "\n",
       "    .dataframe thead th {\n",
       "        text-align: right;\n",
       "    }\n",
       "</style>\n",
       "<table border=\"1\" class=\"dataframe\">\n",
       "  <thead>\n",
       "    <tr style=\"text-align: right;\">\n",
       "      <th></th>\n",
       "      <th>ram</th>\n",
       "      <th>storage</th>\n",
       "      <th>screen</th>\n",
       "      <th>final_price</th>\n",
       "    </tr>\n",
       "  </thead>\n",
       "  <tbody>\n",
       "    <tr>\n",
       "      <th>0</th>\n",
       "      <td>8</td>\n",
       "      <td>512</td>\n",
       "      <td>15.6</td>\n",
       "      <td>1009.00</td>\n",
       "    </tr>\n",
       "    <tr>\n",
       "      <th>1</th>\n",
       "      <td>8</td>\n",
       "      <td>256</td>\n",
       "      <td>15.6</td>\n",
       "      <td>299.00</td>\n",
       "    </tr>\n",
       "    <tr>\n",
       "      <th>2</th>\n",
       "      <td>8</td>\n",
       "      <td>256</td>\n",
       "      <td>15.6</td>\n",
       "      <td>789.00</td>\n",
       "    </tr>\n",
       "    <tr>\n",
       "      <th>3</th>\n",
       "      <td>16</td>\n",
       "      <td>1000</td>\n",
       "      <td>15.6</td>\n",
       "      <td>1199.00</td>\n",
       "    </tr>\n",
       "    <tr>\n",
       "      <th>4</th>\n",
       "      <td>16</td>\n",
       "      <td>512</td>\n",
       "      <td>15.6</td>\n",
       "      <td>669.01</td>\n",
       "    </tr>\n",
       "    <tr>\n",
       "      <th>...</th>\n",
       "      <td>...</td>\n",
       "      <td>...</td>\n",
       "      <td>...</td>\n",
       "      <td>...</td>\n",
       "    </tr>\n",
       "    <tr>\n",
       "      <th>2155</th>\n",
       "      <td>16</td>\n",
       "      <td>1000</td>\n",
       "      <td>17.3</td>\n",
       "      <td>2699.99</td>\n",
       "    </tr>\n",
       "    <tr>\n",
       "      <th>2156</th>\n",
       "      <td>16</td>\n",
       "      <td>1000</td>\n",
       "      <td>17.3</td>\n",
       "      <td>2899.99</td>\n",
       "    </tr>\n",
       "    <tr>\n",
       "      <th>2157</th>\n",
       "      <td>32</td>\n",
       "      <td>1000</td>\n",
       "      <td>17.3</td>\n",
       "      <td>3399.99</td>\n",
       "    </tr>\n",
       "    <tr>\n",
       "      <th>2158</th>\n",
       "      <td>16</td>\n",
       "      <td>1000</td>\n",
       "      <td>13.4</td>\n",
       "      <td>1899.99</td>\n",
       "    </tr>\n",
       "    <tr>\n",
       "      <th>2159</th>\n",
       "      <td>16</td>\n",
       "      <td>256</td>\n",
       "      <td>13.4</td>\n",
       "      <td>1699.99</td>\n",
       "    </tr>\n",
       "  </tbody>\n",
       "</table>\n",
       "<p>2160 rows × 4 columns</p>\n",
       "</div>"
      ],
      "text/plain": [
       "      ram  storage  screen  final_price\n",
       "0       8      512    15.6      1009.00\n",
       "1       8      256    15.6       299.00\n",
       "2       8      256    15.6       789.00\n",
       "3      16     1000    15.6      1199.00\n",
       "4      16      512    15.6       669.01\n",
       "...   ...      ...     ...          ...\n",
       "2155   16     1000    17.3      2699.99\n",
       "2156   16     1000    17.3      2899.99\n",
       "2157   32     1000    17.3      3399.99\n",
       "2158   16     1000    13.4      1899.99\n",
       "2159   16      256    13.4      1699.99\n",
       "\n",
       "[2160 rows x 4 columns]"
      ]
     },
     "execution_count": 21,
     "metadata": {},
     "output_type": "execute_result"
    }
   ],
   "source": [
    "# Preparing the dataset\n",
    "# First, we'll normalize the names of the columns:\n",
    "df.columns = df.columns.str.lower().str.replace(' ', '_')\n",
    "df = df[[\"ram\", \"storage\", \"screen\", \"final_price\"]]\n",
    "df\n"
   ]
  },
  {
   "cell_type": "code",
   "execution_count": 23,
   "id": "e89fec97-00e4-4112-937c-fb72fbcda716",
   "metadata": {},
   "outputs": [
    {
     "data": {
      "text/plain": [
       "['screen']"
      ]
     },
     "execution_count": 23,
     "metadata": {},
     "output_type": "execute_result"
    }
   ],
   "source": [
    "# Question 1. There's one column with missing values. What is it?\n",
    "df.columns[df.isnull().sum() > 0].tolist()"
   ]
  },
  {
   "cell_type": "code",
   "execution_count": 25,
   "id": "63f521c6-34d6-43de-beae-fb3dcb832466",
   "metadata": {},
   "outputs": [
    {
     "data": {
      "text/plain": [
       "16"
      ]
     },
     "execution_count": 25,
     "metadata": {},
     "output_type": "execute_result"
    }
   ],
   "source": [
    "# Question 2. What's the median (50% percentile) for variable 'ram'?\n",
    "int(df.describe()[\"ram\"].loc[\"50%\"])"
   ]
  },
  {
   "cell_type": "code",
   "execution_count": 31,
   "id": "b0743580-2eff-459b-a21d-ed7e3dc72c90",
   "metadata": {},
   "outputs": [],
   "source": [
    "# Prepare and split the dataset\n",
    "n = len(df)\n",
    "\n",
    "n_val = int(n * 0.2)\n",
    "n_test = int(n * 0.2)\n",
    "n_train = n - n_val - n_test\n",
    "\n",
    "idx = np.arange(n)\n",
    "np.random.seed(42)\n",
    "np.random.shuffle(idx)\n",
    "\n",
    "df_train = df.iloc[idx[:n_train]]\n",
    "df_val = df.iloc[idx[n_train:n_train+n_val]]\n",
    "df_test = df.iloc[idx[n_train+n_val:]]\n",
    "\n",
    "df_train = df_train.reset_index(drop=True)\n",
    "df_val = df_val.reset_index(drop=True)\n",
    "df_test = df_test.reset_index(drop=True)\n",
    "\n",
    "y_train = df_train.final_price.values\n",
    "y_val =df_val.final_price.values\n",
    "y_test = df_test.final_price.values\n",
    "\n",
    "del df_train['final_price']\n",
    "del df_val['final_price']\n",
    "del df_test['final_price']"
   ]
  },
  {
   "cell_type": "code",
   "execution_count": 37,
   "id": "8c08f913-0186-4700-939d-a7bb9d088f42",
   "metadata": {},
   "outputs": [],
   "source": [
    "# Question 3\n",
    "    # We need to deal with missing values for the column from Q1.\n",
    "    # We have two options: fill it with 0 or with the mean of this variable.\n",
    "    # Try both options. For each, train a linear regression model without regularization using the code from the lessons.\n",
    "    # For computing the mean, use the training only!\n",
    "    # Use the validation dataset to evaluate the models and compare the RMSE of each option.\n",
    "    # Round the RMSE scores to 2 decimal digits using round(score, 2)\n",
    "    # Which option gives better RMSE?   \n",
    "        # Options:\n",
    "        # With 0\n",
    "        # With mean\n",
    "        # Both are equally good\n",
    "\n",
    "def train_linear_regression(X, y):\n",
    "    ones = np.ones(X.shape[0])\n",
    "    X = np.column_stack([ones, X])\n",
    "\n",
    "    XTX = X.T.dot(X)\n",
    "    XTX_inv = np.linalg.inv(XTX)\n",
    "    w_full = XTX_inv.dot(X.T).dot(y)\n",
    "    \n",
    "    return w_full[0], w_full[1:]\n",
    "\n",
    "\n",
    "def rmse(y, y_pred):\n",
    "    se = (y - y_pred) ** 2\n",
    "    mse = se.mean()\n",
    "    return np.sqrt(mse)\n"
   ]
  },
  {
   "cell_type": "code",
   "execution_count": 39,
   "id": "407a2d38-08a2-4de5-8fa4-cd35de90aec6",
   "metadata": {},
   "outputs": [
    {
     "name": "stdout",
     "output_type": "stream",
     "text": [
      "      ram  storage  screen\n",
      "124    16      512     NaN\n",
      "1062   16      512     NaN\n",
      "1238    8      256     NaN\n"
     ]
    }
   ],
   "source": [
    "rows_with_missing_values = df_train[df_train.isnull().any(axis=1)]\n",
    "print(rows_with_missing_values)\n",
    "indexes_of_rows_with_missing_values = rows_with_missing_values.index.tolist()"
   ]
  },
  {
   "cell_type": "code",
   "execution_count": 41,
   "id": "9d201672-49e2-4a3b-b1bf-8256dfdb5099",
   "metadata": {},
   "outputs": [
    {
     "name": "stdout",
     "output_type": "stream",
     "text": [
      "Rows with missing values after filling them:\n",
      "[[ 16. 512.   0.]\n",
      " [ 16. 512.   0.]\n",
      " [  8. 256.   0.]]\n",
      "\n",
      "RMSE: 597.36\n"
     ]
    }
   ],
   "source": [
    "# filling missing values with 0\n",
    "\n",
    "def prepare_X(df):\n",
    "    df_num = df.copy()\n",
    "    return df_num.fillna(0).values\n",
    "\n",
    "X_train = prepare_X(df_train)\n",
    "\n",
    "print(\"Rows with missing values after filling them:\")\n",
    "print(X_train[indexes_of_rows_with_missing_values])\n",
    "\n",
    "w0, w = train_linear_regression(X_train, y_train)\n",
    "\n",
    "X_val = prepare_X(df_val)\n",
    "y_pred = w0 + X_val.dot(w)\n",
    "\n",
    "rmse_with_zero = round(rmse(y_val, y_pred), 2).item()\n",
    "print(f\"\\nRMSE: {rmse_with_zero}\")"
   ]
  },
  {
   "cell_type": "code",
   "execution_count": 43,
   "id": "486df724-8e93-4e61-9dae-26a429961cc3",
   "metadata": {},
   "outputs": [
    {
     "name": "stdout",
     "output_type": "stream",
     "text": [
      "Rows with missing values after filling them:\n",
      "[[ 16.         512.          15.16353442]\n",
      " [ 16.         512.          15.16353442]\n",
      " [  8.         256.          15.16353442]]\n",
      "\n",
      "RMSE: 600.27\n"
     ]
    }
   ],
   "source": [
    "# filling missing values with mean\n",
    "\n",
    "df_train_screen_mean = df_train[\"screen\"].mean()\n",
    "\n",
    "def prepare_X(df):\n",
    "    df_num = df.copy()\n",
    "    return df_num.fillna(df_train_screen_mean).values\n",
    "\n",
    "X_train = prepare_X(df_train)\n",
    "\n",
    "print(\"Rows with missing values after filling them:\")\n",
    "print(X_train[indexes_of_rows_with_missing_values])\n",
    "\n",
    "w0, w = train_linear_regression(X_train, y_train)\n",
    "\n",
    "X_val = prepare_X(df_val)\n",
    "y_pred = w0 + X_val.dot(w)\n",
    "\n",
    "rmse_with_mean = round(rmse(y_val, y_pred), 2).item()\n",
    "print(f\"\\nRMSE: {rmse_with_mean}\")"
   ]
  },
  {
   "cell_type": "code",
   "execution_count": 45,
   "id": "a09a2858-ea96-43ea-b1e3-1f09b123011e",
   "metadata": {},
   "outputs": [
    {
     "name": "stdout",
     "output_type": "stream",
     "text": [
      "With 0\n"
     ]
    }
   ],
   "source": [
    "print(\n",
    "    \"With 0\"\n",
    "    if rmse_with_zero < rmse_with_mean\n",
    "    else \"With mean\"\n",
    "    if rmse_with_zero > rmse_with_mean\n",
    "    else \"Both are equally good\"\n",
    ")"
   ]
  },
  {
   "cell_type": "markdown",
   "id": "cc5f60f9-f80d-421e-8f56-2c8b296d3cea",
   "metadata": {},
   "source": [
    "### Question 4\n",
    "\n",
    "* Now let's train a regularized linear regression.\n",
    "* For this question, fill the NAs with 0. \n",
    "* Try different values of `r` from this list: `[0, 0.01, 0.1, 1, 5, 10, 100]`.\n",
    "* Use RMSE to evaluate the model on the validation dataset.\n",
    "* Round the RMSE scores to 2 decimal digits.\n",
    "* Which `r` gives the best RMSE?\n",
    "\n",
    "If there are multiple options, select the smallest `r`.\n",
    "\n",
    "Options:\n",
    "\n",
    "- 0\n",
    "- 0.01\n",
    "- 1\n",
    "- 10\n",
    "- 100"
   ]
  },
  {
   "cell_type": "code",
   "execution_count": 55,
   "id": "e2b61c3f-0689-42a1-9e8e-9967616f4a05",
   "metadata": {},
   "outputs": [],
   "source": [
    "def train_linear_regression_reg(X, y, r=0.001):\n",
    "    ones = np.ones(X.shape[0])\n",
    "    X = np.column_stack([ones, X])\n",
    "\n",
    "    XTX = X.T.dot(X)\n",
    "    XTX = XTX + r * np.eye(XTX.shape[0])\n",
    "\n",
    "    XTX_inv = np.linalg.inv(XTX)\n",
    "    w_full = XTX_inv.dot(X.T).dot(y)\n",
    "    \n",
    "    return w_full[0], w_full[1:]\n",
    "\n",
    "def prepare_X(df):\n",
    "    df_num = df.copy()\n",
    "    return df_num.fillna(0).values"
   ]
  },
  {
   "cell_type": "code",
   "execution_count": 57,
   "id": "b65ac3b7-ba7f-485a-9c33-26b465dc3a9e",
   "metadata": {},
   "outputs": [
    {
     "name": "stdout",
     "output_type": "stream",
     "text": [
      "        r   score\n",
      "0    0.00  597.36\n",
      "1    0.01  597.36\n",
      "2    1.00  597.21\n",
      "3   10.00  597.06\n",
      "4  100.00  597.90\n"
     ]
    }
   ],
   "source": [
    "rs = [0, 0.01, 1, 10, 100]\n",
    "scores = []\n",
    "\n",
    "for r in rs:\n",
    "    X_train = prepare_X(df_train)\n",
    "    w0, w = train_linear_regression_reg(X_train, y_train, r=r)\n",
    "\n",
    "    X_val = prepare_X(df_val)\n",
    "    y_pred = w0 + X_val.dot(w)\n",
    "    scores.append(rmse(y_val, y_pred))\n",
    "\n",
    "print(round(pd.DataFrame({\"r\": rs, \"score\": scores}), 2))"
   ]
  },
  {
   "cell_type": "code",
   "execution_count": 59,
   "id": "82549e08-aa36-4b30-a502-932bca926f79",
   "metadata": {},
   "outputs": [
    {
     "data": {
      "text/plain": [
       "r         10.000000\n",
       "score    597.058768\n",
       "Name: 3, dtype: float64"
      ]
     },
     "execution_count": 59,
     "metadata": {},
     "output_type": "execute_result"
    }
   ],
   "source": [
    "r_scores = pd.DataFrame({\"r\": rs, \"score\": scores})\n",
    "r_scores.loc[r_scores[\"score\"].idxmin()]"
   ]
  },
  {
   "cell_type": "markdown",
   "id": "e7043c20-5144-4bc6-9c1e-9f6a8c7286c3",
   "metadata": {},
   "source": [
    "### Question 5 \n",
    "\n",
    "* We used seed 42 for splitting the data. Let's find out how selecting the seed influences our score.\n",
    "* Try different seed values: `[0, 1, 2, 3, 4, 5, 6, 7, 8, 9]`.\n",
    "* For each seed, do the train/validation/test split with 60%/20%/20% distribution.\n",
    "* Fill the missing values with 0 and train a model without regularization.\n",
    "* For each seed, evaluate the model on the validation dataset and collect the RMSE scores. \n",
    "* What's the standard deviation of all the scores? To compute the standard deviation, use `np.std`.\n",
    "* Round the result to 3 decimal digits (`round(std, 3)`)\n",
    "\n",
    "What's the value of std?\n",
    "\n",
    "- 19.176\n",
    "- 29.176\n",
    "- 39.176\n",
    "- 49.176\n",
    "\n",
    "> Note: Standard deviation shows how different the values are.\n",
    "> If it's low, then all values are approximately the same.\n",
    "> If it's high, the values are different. \n",
    "> If standard deviation of scores is low, then our model is *stable*.\n"
   ]
  },
  {
   "cell_type": "code",
   "execution_count": 62,
   "id": "c553bb17-2461-42c7-a151-02b5939a40a1",
   "metadata": {},
   "outputs": [],
   "source": [
    "def split_data(df, seed):\n",
    "    n = len(df)\n",
    "\n",
    "    n_val = int(n * 0.2)\n",
    "    n_test = int(n * 0.2)\n",
    "    n_train = n - n_val - n_test\n",
    "    \n",
    "    idx = np.arange(n)\n",
    "    np.random.seed(seed)\n",
    "    np.random.shuffle(idx)\n",
    "    \n",
    "    df_train = df.iloc[idx[:n_train]]\n",
    "    df_val = df.iloc[idx[n_train:n_train+n_val]]\n",
    "    df_test = df.iloc[idx[n_train+n_val:]]\n",
    "    \n",
    "    \n",
    "    df_train = df_train.reset_index(drop=True)\n",
    "    df_val = df_val.reset_index(drop=True)\n",
    "    df_test = df_test.reset_index(drop=True)\n",
    "    \n",
    "    y_train = df_train.final_price.values\n",
    "    y_val = df_val.final_price.values\n",
    "    y_test = df_test.final_price.values\n",
    "    \n",
    "    del df_train['final_price']\n",
    "    del df_val['final_price']\n",
    "    del df_test['final_price']\n",
    "\n",
    "    return df_train, df_val, df_test, y_train, y_val, y_test"
   ]
  },
  {
   "cell_type": "code",
   "execution_count": 64,
   "id": "0da6fb8d-fb48-4d8a-90d4-ea942c0cccfb",
   "metadata": {},
   "outputs": [],
   "source": [
    "def prepare_X(df):\n",
    "    df_num = df.copy()\n",
    "    return df_num.fillna(0).values"
   ]
  },
  {
   "cell_type": "code",
   "execution_count": 66,
   "id": "420af17d-fffc-4870-bedb-d3a218dbda1a",
   "metadata": {},
   "outputs": [
    {
     "name": "stdout",
     "output_type": "stream",
     "text": [
      "   seed   score\n",
      "0     0  565.45\n",
      "1     1  636.80\n",
      "2     2  588.96\n",
      "3     3  597.81\n",
      "4     4  571.96\n",
      "5     5  573.24\n",
      "6     6  647.34\n",
      "7     7  550.44\n",
      "8     8  587.33\n",
      "9     9  576.10\n"
     ]
    }
   ],
   "source": [
    "seeds = [0, 1, 2, 3, 4, 5, 6, 7, 8, 9]\n",
    "scores = []\n",
    "\n",
    "for seed in seeds:\n",
    "    df_train, df_val, df_test, y_train, y_val, y_test = split_data(df, seed)\n",
    "    \n",
    "    X_train = prepare_X(df_train)\n",
    "    w0, w = train_linear_regression(X_train, y_train)\n",
    "\n",
    "    X_val = prepare_X(df_val)\n",
    "    y_pred = w0 + X_val.dot(w)\n",
    "    scores.append(rmse(y_val, y_pred))\n",
    "\n",
    "print(round(pd.DataFrame({\"seed\": seeds, \"score\": scores}), 2))"
   ]
  },
  {
   "cell_type": "code",
   "execution_count": 68,
   "id": "c68c6127-751d-4d74-934b-a98d84988b75",
   "metadata": {},
   "outputs": [
    {
     "data": {
      "text/plain": [
       "29.176"
      ]
     },
     "execution_count": 68,
     "metadata": {},
     "output_type": "execute_result"
    }
   ],
   "source": [
    "round(np.std(scores), 3).item()"
   ]
  },
  {
   "cell_type": "markdown",
   "id": "7706829c-74b5-4630-802b-f1f4956cd679",
   "metadata": {},
   "source": [
    "### Question 6\n",
    "\n",
    "* Split the dataset like previously, use seed 9.\n",
    "* Combine train and validation datasets.\n",
    "* Fill the missing values with 0 and train a model with `r=0.001`. \n",
    "* What's the RMSE on the test dataset?\n",
    "\n",
    "Options:\n",
    "\n",
    "- 598.60\n",
    "- 608.60\n",
    "- 618.60\n",
    "- 628.60"
   ]
  },
  {
   "cell_type": "code",
   "execution_count": 71,
   "id": "e365f0ae-5c6e-4482-a2b3-e624227ad1a7",
   "metadata": {},
   "outputs": [],
   "source": [
    "def prepare_X(df):\n",
    "    df_num = df.copy()\n",
    "    return df_num.fillna(0).values"
   ]
  },
  {
   "cell_type": "code",
   "execution_count": 73,
   "id": "b9526178-802f-4d2f-b14d-ade38aa51985",
   "metadata": {},
   "outputs": [
    {
     "data": {
      "text/plain": [
       "608.6099822049559"
      ]
     },
     "execution_count": 73,
     "metadata": {},
     "output_type": "execute_result"
    }
   ],
   "source": [
    "df_train, df_val, df_test, y_train, y_val, y_test = split_data(df, 9)\n",
    "df_full_train = pd.concat([df_train, df_val])\n",
    "df_full_train = df_full_train.reset_index(drop=True)\n",
    "X_full_train = prepare_X(df_full_train)\n",
    "y_full_train = np.concatenate([y_train, y_val])\n",
    "w0, w = train_linear_regression_reg(X_full_train, y_full_train, r=0.001)\n",
    "X_test = prepare_X(df_test)\n",
    "y_pred = w0 + X_test.dot(w)\n",
    "score = rmse(y_test, y_pred)\n",
    "score.item()"
   ]
  },
  {
   "cell_type": "markdown",
   "id": "51021578-8bab-4941-8c6e-382e932a61bc",
   "metadata": {},
   "source": [
    "## Submit the results\n",
    "\n",
    "* Submit your results here: https://courses.datatalks.club/ml-zoomcamp-2024/homework/hw02\n",
    "* If your answer doesn't match options exactly, select the closest one\n"
   ]
  },
  {
   "cell_type": "code",
   "execution_count": null,
   "id": "4c85363c-4df3-4cdc-8141-80eeaa51b7fe",
   "metadata": {},
   "outputs": [],
   "source": []
  }
 ],
 "metadata": {
  "kernelspec": {
   "display_name": "Python 3 (ipykernel)",
   "language": "python",
   "name": "python3"
  },
  "language_info": {
   "codemirror_mode": {
    "name": "ipython",
    "version": 3
   },
   "file_extension": ".py",
   "mimetype": "text/x-python",
   "name": "python",
   "nbconvert_exporter": "python",
   "pygments_lexer": "ipython3",
   "version": "3.12.4"
  }
 },
 "nbformat": 4,
 "nbformat_minor": 5
}
